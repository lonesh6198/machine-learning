{
 "cells": [
  {
   "cell_type": "code",
   "execution_count": 11,
   "id": "6e28b4de",
   "metadata": {},
   "outputs": [
    {
     "name": "stderr",
     "output_type": "stream",
     "text": [
      "[nltk_data] Downloading package stopwords to\n",
      "[nltk_data]     C:\\Users\\lokesh\\AppData\\Roaming\\nltk_data...\n",
      "[nltk_data]   Unzipping corpora\\stopwords.zip.\n"
     ]
    }
   ],
   "source": [
    "from nltk import PorterStemmer\n",
    "import nltk\n",
    "nltk.download('stopwords')\n",
    "from nltk.corpus import stopwords"
   ]
  },
  {
   "cell_type": "code",
   "execution_count": 12,
   "id": "5ae4625c",
   "metadata": {},
   "outputs": [],
   "source": [
    "paragraph='Starring Tom Hiddleston in the lead role, Disney Plus Hotstar series Loki starts streaming from 12:30 pm on June 9. While the God of Mischief died in the main timeline during the events of Avengers: Infinity War, the character got another lease of life during Avengers: Endgame as the Avengers visited the timeline of Battle of New York where Loki was being held captive. The events of this MCU series kick off from that moment, and the Loki we see here is the one who vanished with the Tesseract.'"
   ]
  },
  {
   "cell_type": "code",
   "execution_count": 13,
   "id": "65f5fef6",
   "metadata": {},
   "outputs": [],
   "source": [
    "stemmer=PorterStemmer()"
   ]
  },
  {
   "cell_type": "code",
   "execution_count": 14,
   "id": "59803809",
   "metadata": {},
   "outputs": [],
   "source": [
    "sentences=nltk.sent_tokenize(paragraph)"
   ]
  },
  {
   "cell_type": "code",
   "execution_count": 16,
   "id": "3fd6c1ae",
   "metadata": {},
   "outputs": [],
   "source": [
    "for i in range(len(sentences)):\n",
    "    words=nltk.word_tokenize(sentences[i])\n",
    "    words=[stemmer.stem(word) for word in words if word not in set(stopwords.words('english'))]\n",
    "    sentences[i]=''.join(words)"
   ]
  },
  {
   "cell_type": "code",
   "execution_count": 17,
   "id": "86bfc9d5",
   "metadata": {},
   "outputs": [
    {
     "name": "stdout",
     "output_type": "stream",
     "text": [
      "['startomhiddlestonleadrol,disneypluhotstarserilokistartstream12:30pmjune9.', 'whilegodmischiefdiemaintimelineventaveng:infinwar,charactgotanothleaslifeaveng:endgamavengvisittimelinbattlnewyorklokiheldcaptiv.', 'theeventmcuserikickmo,lokiseeonevanishtesseract.']\n"
     ]
    }
   ],
   "source": [
    "print(sentences)"
   ]
  },
  {
   "cell_type": "code",
   "execution_count": null,
   "id": "effdd6d5",
   "metadata": {},
   "outputs": [],
   "source": []
  }
 ],
 "metadata": {
  "kernelspec": {
   "display_name": "Python 3",
   "language": "python",
   "name": "python3"
  },
  "language_info": {
   "codemirror_mode": {
    "name": "ipython",
    "version": 3
   },
   "file_extension": ".py",
   "mimetype": "text/x-python",
   "name": "python",
   "nbconvert_exporter": "python",
   "pygments_lexer": "ipython3",
   "version": "3.8.10"
  }
 },
 "nbformat": 4,
 "nbformat_minor": 5
}
