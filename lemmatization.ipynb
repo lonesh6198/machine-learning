{
 "cells": [
  {
   "cell_type": "code",
   "execution_count": 7,
   "id": "f5f55470",
   "metadata": {},
   "outputs": [
    {
     "name": "stderr",
     "output_type": "stream",
     "text": [
      "[nltk_data] Downloading package wordnet to\n",
      "[nltk_data]     C:\\Users\\lokesh\\AppData\\Roaming\\nltk_data...\n",
      "[nltk_data]   Unzipping corpora\\wordnet.zip.\n"
     ]
    },
    {
     "data": {
      "text/plain": [
       "True"
      ]
     },
     "execution_count": 7,
     "metadata": {},
     "output_type": "execute_result"
    }
   ],
   "source": [
    "import nltk\n",
    "from nltk.stem import WordNetLemmatizer\n",
    "from nltk .corpus import stopwords\n",
    "nltk.download('wordnet')"
   ]
  },
  {
   "cell_type": "code",
   "execution_count": 8,
   "id": "f54f2bdd",
   "metadata": {},
   "outputs": [],
   "source": [
    "paragraph='Starring Tom Hiddleston in the lead role, Disney Plus Hotstar series Loki starts streaming from 12:30 pm on June 9. While the God of Mischief died in the main timeline during the events of Avengers: Infinity War, the character got another lease of life during Avengers: Endgame as the Avengers visited the timeline of Battle of New York where Loki was being held captive. The events of this MCU series kick off from that moment, and the Loki we see here is the one who vanished with the Tesseract.'"
   ]
  },
  {
   "cell_type": "code",
   "execution_count": 9,
   "id": "26cf7eac",
   "metadata": {},
   "outputs": [],
   "source": [
    "sentences=nltk.sent_tokenize(paragraph)\n",
    "lemma=WordNetLemmatizer()"
   ]
  },
  {
   "cell_type": "code",
   "execution_count": 10,
   "id": "fee98fe7",
   "metadata": {},
   "outputs": [],
   "source": [
    "for i in range(len(sentences)):\n",
    "    words=nltk.word_tokenize(sentences[i])\n",
    "    words=[lemma.lemmatize(word) for word in words if word not in set(stopwords.words('english'))]\n",
    "    sentences[i]=''.join(words)"
   ]
  },
  {
   "cell_type": "code",
   "execution_count": 11,
   "id": "d920e7ff",
   "metadata": {},
   "outputs": [
    {
     "name": "stdout",
     "output_type": "stream",
     "text": [
      "['StarringTomHiddlestonleadrole,DisneyPlusHotstarseriesLokistartstreaming12:30pmJune9.', 'WhileGodMischiefdiedmaintimelineeventAvengers:InfinityWar,charactergotanotherleaselifeAvengers:EndgameAvengersvisitedtimelineBattleNewYorkLokiheldcaptive.', 'TheeventMCUserieskickmoment,LokiseeonevanishedTesseract.']\n"
     ]
    }
   ],
   "source": [
    "print(sentences)"
   ]
  },
  {
   "cell_type": "code",
   "execution_count": null,
   "id": "7e385780",
   "metadata": {},
   "outputs": [],
   "source": []
  }
 ],
 "metadata": {
  "kernelspec": {
   "display_name": "Python 3",
   "language": "python",
   "name": "python3"
  },
  "language_info": {
   "codemirror_mode": {
    "name": "ipython",
    "version": 3
   },
   "file_extension": ".py",
   "mimetype": "text/x-python",
   "name": "python",
   "nbconvert_exporter": "python",
   "pygments_lexer": "ipython3",
   "version": "3.8.10"
  }
 },
 "nbformat": 4,
 "nbformat_minor": 5
}
