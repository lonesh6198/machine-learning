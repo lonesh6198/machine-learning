{
 "cells": [
  {
   "cell_type": "code",
   "execution_count": 1,
   "id": "867eb73d",
   "metadata": {},
   "outputs": [
    {
     "name": "stderr",
     "output_type": "stream",
     "text": [
      "[nltk_data] Downloading package punkt to\n",
      "[nltk_data]     C:\\Users\\lokesh\\AppData\\Roaming\\nltk_data...\n",
      "[nltk_data]   Unzipping tokenizers\\punkt.zip.\n"
     ]
    },
    {
     "data": {
      "text/plain": [
       "True"
      ]
     },
     "execution_count": 1,
     "metadata": {},
     "output_type": "execute_result"
    }
   ],
   "source": [
    "import nltk\n",
    "nltk.download('punkt')"
   ]
  },
  {
   "cell_type": "code",
   "execution_count": 2,
   "id": "1e0019b7",
   "metadata": {},
   "outputs": [],
   "source": [
    "paragraph='Starring Tom Hiddleston in the lead role, Disney Plus Hotstar series Loki starts streaming from 12:30 pm on June 9. While the God of Mischief died in the main timeline during the events of Avengers: Infinity War, the character got another lease of life during Avengers: Endgame as the Avengers visited the timeline of Battle of New York where Loki was being held captive. The events of this MCU series kick off from that moment, and the Loki we see here is the one who vanished with the Tesseract.'"
   ]
  },
  {
   "cell_type": "code",
   "execution_count": 3,
   "id": "5d1dded9",
   "metadata": {},
   "outputs": [],
   "source": [
    "sentences=nltk.sent_tokenize(paragraph)"
   ]
  },
  {
   "cell_type": "code",
   "execution_count": 4,
   "id": "8a8d5af9",
   "metadata": {},
   "outputs": [
    {
     "name": "stdout",
     "output_type": "stream",
     "text": [
      "['Starring Tom Hiddleston in the lead role, Disney Plus Hotstar series Loki starts streaming from 12:30 pm on June 9.', 'While the God of Mischief died in the main timeline during the events of Avengers: Infinity War, the character got another lease of life during Avengers: Endgame as the Avengers visited the timeline of Battle of New York where Loki was being held captive.', 'The events of this MCU series kick off from that moment, and the Loki we see here is the one who vanished with the Tesseract.']\n"
     ]
    }
   ],
   "source": [
    "print(sentences)"
   ]
  },
  {
   "cell_type": "code",
   "execution_count": 5,
   "id": "34409c46",
   "metadata": {},
   "outputs": [],
   "source": [
    "words=nltk.word_tokenize(paragraph)"
   ]
  },
  {
   "cell_type": "code",
   "execution_count": 6,
   "id": "3f523b8a",
   "metadata": {},
   "outputs": [
    {
     "name": "stdout",
     "output_type": "stream",
     "text": [
      "['Starring', 'Tom', 'Hiddleston', 'in', 'the', 'lead', 'role', ',', 'Disney', 'Plus', 'Hotstar', 'series', 'Loki', 'starts', 'streaming', 'from', '12:30', 'pm', 'on', 'June', '9', '.', 'While', 'the', 'God', 'of', 'Mischief', 'died', 'in', 'the', 'main', 'timeline', 'during', 'the', 'events', 'of', 'Avengers', ':', 'Infinity', 'War', ',', 'the', 'character', 'got', 'another', 'lease', 'of', 'life', 'during', 'Avengers', ':', 'Endgame', 'as', 'the', 'Avengers', 'visited', 'the', 'timeline', 'of', 'Battle', 'of', 'New', 'York', 'where', 'Loki', 'was', 'being', 'held', 'captive', '.', 'The', 'events', 'of', 'this', 'MCU', 'series', 'kick', 'off', 'from', 'that', 'moment', ',', 'and', 'the', 'Loki', 'we', 'see', 'here', 'is', 'the', 'one', 'who', 'vanished', 'with', 'the', 'Tesseract', '.']\n"
     ]
    }
   ],
   "source": [
    "print(words)"
   ]
  },
  {
   "cell_type": "code",
   "execution_count": null,
   "id": "f49a9208",
   "metadata": {},
   "outputs": [],
   "source": []
  }
 ],
 "metadata": {
  "kernelspec": {
   "display_name": "Python 3",
   "language": "python",
   "name": "python3"
  },
  "language_info": {
   "codemirror_mode": {
    "name": "ipython",
    "version": 3
   },
   "file_extension": ".py",
   "mimetype": "text/x-python",
   "name": "python",
   "nbconvert_exporter": "python",
   "pygments_lexer": "ipython3",
   "version": "3.8.10"
  }
 },
 "nbformat": 4,
 "nbformat_minor": 5
}
